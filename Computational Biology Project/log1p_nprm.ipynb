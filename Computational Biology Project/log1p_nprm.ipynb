{
 "cells": [
  {
   "cell_type": "code",
   "execution_count": 5,
   "metadata": {},
   "outputs": [
    {
     "name": "stdout",
     "output_type": "stream",
     "text": [
      "Normalized sc_CLL03_post.h5ad and saved to normalized_samples/sc_CLL03_post.h5ad\n",
      "Normalized sc_CLL03_pre.h5ad and saved to normalized_samples/sc_CLL03_pre.h5ad\n",
      "Normalized sc_CLL04_post.h5ad and saved to normalized_samples/sc_CLL04_post.h5ad\n",
      "Normalized sc_CLL04_pre.h5ad and saved to normalized_samples/sc_CLL04_pre.h5ad\n",
      "Normalized sc_CLL05_post.h5ad and saved to normalized_samples/sc_CLL05_post.h5ad\n",
      "Normalized sc_CLL05_pre.h5ad and saved to normalized_samples/sc_CLL05_pre.h5ad\n",
      "Normalized sc_CLL11_post.h5ad and saved to normalized_samples/sc_CLL11_post.h5ad\n",
      "Normalized sc_CLL12_pre.h5ad and saved to normalized_samples/sc_CLL12_pre.h5ad\n"
     ]
    }
   ],
   "source": [
    "import os\n",
    "import scanpy as sc\n",
    "import matplotlib.pyplot as plt\n",
    "\n",
    "# Define the directory containing the .h5ad files\n",
    "samples_folder = \"samples\"\n",
    "output_folder = \"normalized_samples\"\n",
    "os.makedirs(output_folder, exist_ok=True)\n",
    "\n",
    "# Iterate over all .h5ad files in the samples folder\n",
    "for filename in os.listdir(samples_folder):\n",
    "    if filename.endswith(\".h5ad\"):\n",
    "        # Load the .h5ad file\n",
    "        input_path = os.path.join(samples_folder, filename)\n",
    "        adata = sc.read_h5ad(input_path)\n",
    "\n",
    "        # Perform normalization directly on `adata`\n",
    "        scales_counts = sc.pp.normalize_total(adata, target_sum=None, inplace=False)\n",
    "        adata.X = sc.pp.log1p(scales_counts[\"X\"], copy=True)\n",
    "\n",
    " \n",
    "        # Save the normalized data to the output folder\n",
    "        output_path = os.path.join(output_folder, filename)\n",
    "        adata.write_h5ad(output_path)\n",
    "\n",
    "        print(f\"Normalized {filename} and saved to {output_path}\")\n"
   ]
  }
 ],
 "metadata": {
  "kernelspec": {
   "display_name": "Python 3",
   "language": "python",
   "name": "python3"
  },
  "language_info": {
   "codemirror_mode": {
    "name": "ipython",
    "version": 3
   },
   "file_extension": ".py",
   "mimetype": "text/x-python",
   "name": "python",
   "nbconvert_exporter": "python",
   "pygments_lexer": "ipython3",
   "version": "3.12.3"
  }
 },
 "nbformat": 4,
 "nbformat_minor": 2
}
